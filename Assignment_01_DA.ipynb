{
  "nbformat": 4,
  "nbformat_minor": 0,
  "metadata": {
    "colab": {
      "provenance": []
    },
    "kernelspec": {
      "name": "python3",
      "display_name": "Python 3"
    },
    "language_info": {
      "name": "python"
    }
  },
  "cells": [
    {
      "cell_type": "markdown",
      "source": [
        "1. What is Python, and why is it popular ?\n",
        "Ans: Python is a high level , interpreted programming language with a simple syntax, which makes it easily readable and extremely user and beginer friendly.\n",
        "Python is more productive compared to some other more complex programming languages like c++.Python has an expansive, suportive community of osers.Even the best developers run into problems and this is where user communities can become an invaluable resourse.It has high corporate demand because of its wide scale applicabilityin development and data analysis work, learning and knowing\n",
        "\n",
        "2. What is an interpreter in Python ?\n",
        "Ans: Python is an interpreted language. Python is one of the most high level languages used today because of its massive versatility and portable library and framework features.It executes line by line instructions . There are actually two way to execute python code one is in interactive mode  and the another thing is having Python prompts which is also called script mode. Python does not convert high level code into low level code as many other programming languages do rather it will scan the entire code into something called  bytecode then convrerted by PVM that understand the analogy and give the desired output.\n",
        "\n",
        "3. What are pre-defined keywords in Python ?\n",
        "Ans: Keywords in Python are reserved words that have predefined and can not be used as identifiers. Keywords are used to perform specific tasks within the Python language. They dictate the flow of control , define code blocks, handle\n",
        "exceptions, and more. They are - True, False, None, and, or, not, in, is, if, elif, else, for, while, break, continue, def, lambda, class, try, except, raise, finally, assert, import, from ,  as, return, yeild, async, await, del, global, nonlocal, with, as, pass etc.\n",
        "\n",
        "4. Can keywords be used as variable names ?\n",
        "Ans: No, keywords can not be used as variable names in Python. Keywords are reserved words with specific meanings in the language's syntax and str. Attempting to use a keyword as a variable name will result in a syntax error.\n",
        "\n",
        "5. What is mutability in Python ?\n",
        "Ans: In Ptython, mutability refers to an objects ability to be modified after creation. Mutable objects can have their values changed without craeting a new object. This means that operations on a mutable object directly alter the existing object in memory.In list, Elements can be added, remoed, or changed.\n",
        "In Dictionaries, Key-value pairs can be added, removed, or modified.In Sets, Elements can be added or removed.\n",
        "\n",
        "6. Why are lists mutable, but tuples are immutable ?\n",
        "Ans: The reason for this difference lies in how these data types are designed and implemented in Python. Lists are intended for situations where data needs to be dynamically modified, while tuples are designed for situations where data should remains constant.Its impoertant to note that while a tuple itself is immutable. In such cases, the tuple's references to the mutable object can not be changed, but the mutable object itself can still be modified.\n",
        "\n",
        "7. What is the difference between “==” and “is” operators in Python ?\n",
        "Ans: == compares the values of the two objects. Checks if the content or data held by the objects is the same. It uses the _eq_ method of the object to datermine equality. 'is' compares the identies of two objects. Checks if two references point to the exact same object in memory. It compares the memory addresses of the objects.\n",
        "\n",
        "8. What are logical operators in Python ?\n",
        "Ans: Logical operators in Python are used to combine or modify boolean expressions true or false . they are and, or, not.\n",
        "\n",
        "9. What is type casting in Python ?\n",
        "Ans: Type casting is the method to convert the Python variable data type into a certain data type in order to perform the required operation  by users. In Python two types of conversion is there i.e Implicit type and Explicit type.\n",
        "\n",
        "10. What is the difference between implicit and explicit type casting ?\n",
        "Ans: In Implicit type casting, Python automatically converts one data type to another without the programmer's intervention. This usually occurs when different data types are used in an expression. Python converts the data type with a lower hierarchy to a higher one to avoid data loss.\n",
        "In Explicit Type casting, The programmers manualy converts a data type using build-in functions. This is called type casting . It is used when imlpicit conversion is not possible, or when we need to control the conversion.\n",
        "\n",
        "11. What is the purpose of conditional statements in Python ?\n",
        "Ans: Conditional statements in python serve the purpose of controlling the flow of execution within a program based on whether certain conditions are met.Conditional Statements enable a program to make choices and execute different code blocks depending on whether a specified condition evaluates to true or false.Conditional statements make programs more versatile by allowing them to respond differently to various inputs and situations. By selectively executing code, conditional statements can improve program efficiency by avoiding unnecessary computations.\n",
        "\n",
        "12.  How does the elif statement work ?\n",
        "Ans: In python elif is short for \"else if\" and is used in conditional statements to check multiple conditions sequentially. It allow us to evaluate different expressions and execute specific blocks of code based on which condition is true.\n",
        "\n",
        "13. What is the difference between for and while loops ?\n",
        "Ans: for loop: Primarily used iterate over a sequence or other iterate objects.Best suited when the number of iterations is known in advance. The loop variable takes on the value of each element in the sequence during each iteration.syntax: for i in sequence: # code yo be executed\n",
        "while loop: Repeats a block of code as long as long as a specified  condition remains true.Used when the number of iterations is not known beforehand. The loop condition is evaluated before each iteration.Syntax: while condition: # code to be executed\n",
        "\n",
        "14. Describe a scenario where a while loop is more suitable than a for loop.\n",
        "Ans: A while loop is more suitable than a for loop when the number of iterations is not known beforehand, or depends on a condition that can change during the loop's execution. Consider a scenerio where a program needs to repeated ask the user for input until they enter a specific word, like \"quit\". In this case, the number of times the loops need to run is not determined in advance; it depends on the user's input. A while loop is ideal here because it can continue running as long as the user's input is not \"quit\".\n",
        "\n",
        "Example: user_input = \"\"\n",
        "while user_input != \"quit\":\n",
        "user_input = input(\"Enter something\")\n",
        "print(\"You entered \",user_input)\n",
        "print(\"Existing...\")"
      ],
      "metadata": {
        "id": "lyAB9YNP9b0U"
      }
    },
    {
      "cell_type": "code",
      "execution_count": 12,
      "metadata": {
        "id": "6AuYkEP29Okk",
        "colab": {
          "base_uri": "https://localhost:8080/"
        },
        "outputId": "6c5c8e74-19b2-437a-ae2b-8869e3210181"
      },
      "outputs": [
        {
          "output_type": "stream",
          "name": "stdout",
          "text": [
            "Hello, World\n"
          ]
        }
      ],
      "source": [
        "# Write a Python program to print \"Hello, World!\"\n",
        "print(\"Hello,\", end=\" \")\n",
        "print(\"World\")"
      ]
    },
    {
      "cell_type": "code",
      "source": [
        "# Write a Python program that displays your name and age\n",
        "name = input(\"Name: \")\n",
        "age = int(input(\"Age: \"))\n",
        "print(\"My name is\", name)\n",
        "print(\"I am\", age, \"years old\")\n"
      ],
      "metadata": {
        "colab": {
          "base_uri": "https://localhost:8080/"
        },
        "id": "k-wvnxQMc4pe",
        "outputId": "e940ba5a-c88c-4914-88f3-f081e6e95917"
      },
      "execution_count": 39,
      "outputs": [
        {
          "output_type": "stream",
          "name": "stdout",
          "text": [
            "Name: Suryakanta Moharana\n",
            "Age: 26\n",
            "My name is Suryakanta Moharana\n",
            "I am 26 years old\n"
          ]
        }
      ]
    },
    {
      "cell_type": "code",
      "source": [
        "# Write code to print all the pre-defined keywords in Python using the keyword library\n",
        "\n",
        "import keyword\n",
        "list_Keys = keyword.kwlist\n",
        "print(\"python keywords:\")\n",
        "for kw in list_Keys:\n",
        "  print(kw)"
      ],
      "metadata": {
        "colab": {
          "base_uri": "https://localhost:8080/"
        },
        "id": "WHQnPztEkvm-",
        "outputId": "a18891c1-11ca-4fc7-dac4-d4d3f70c1d0c"
      },
      "execution_count": 30,
      "outputs": [
        {
          "output_type": "stream",
          "name": "stdout",
          "text": [
            "python keywords:\n",
            "False\n",
            "None\n",
            "True\n",
            "and\n",
            "as\n",
            "assert\n",
            "async\n",
            "await\n",
            "break\n",
            "class\n",
            "continue\n",
            "def\n",
            "del\n",
            "elif\n",
            "else\n",
            "except\n",
            "finally\n",
            "for\n",
            "from\n",
            "global\n",
            "if\n",
            "import\n",
            "in\n",
            "is\n",
            "lambda\n",
            "nonlocal\n",
            "not\n",
            "or\n",
            "pass\n",
            "raise\n",
            "return\n",
            "try\n",
            "while\n",
            "with\n",
            "yield\n"
          ]
        }
      ]
    },
    {
      "cell_type": "code",
      "source": [
        "# Write a program that checks if a given word is a Python keyword\n",
        "import keyword\n",
        "\n",
        "word = input(\"Enter a string: \")\n",
        "if keyword.iskeyword(word):\n",
        "  print(f\"'{word}' is a pre-defined keyword\")\n",
        "else:\n",
        "  print(f\"'{word}' is not a pre-defined keyword\")"
      ],
      "metadata": {
        "colab": {
          "base_uri": "https://localhost:8080/"
        },
        "id": "pxEUB2K7uOHp",
        "outputId": "ecf8b5e5-f702-42a2-c0ce-4bce403cfa32"
      },
      "execution_count": 37,
      "outputs": [
        {
          "output_type": "stream",
          "name": "stdout",
          "text": [
            "Enter a string: while\n",
            "'while' is a pre-defined keyword\n"
          ]
        }
      ]
    },
    {
      "cell_type": "code",
      "source": [
        "# Create a list and tuple in Python, and demonstrate how attempting to change an element works differently for each\n",
        "\n",
        "my_list = [10, 20, 30]\n",
        "my_tuple = (10, 20, 30)\n",
        "\n",
        "print(\"Original list:\", my_list)\n",
        "my_list[1] = 200\n",
        "print(\"Modified list:\", my_list)\n",
        "\n",
        "print(\"Original tuple:\", my_tuple)\n",
        "try:\n",
        "    my_tuple[1] = 200\n",
        "except TypeError as e:\n",
        "    print(\"Error:\", e)\n"
      ],
      "metadata": {
        "colab": {
          "base_uri": "https://localhost:8080/"
        },
        "id": "bpHWMN-1zTHb",
        "outputId": "85ffda06-b779-4c31-f00e-c72b10acd50e"
      },
      "execution_count": 40,
      "outputs": [
        {
          "output_type": "stream",
          "name": "stdout",
          "text": [
            "Original list: [10, 20, 30]\n",
            "Modified list: [10, 200, 30]\n",
            "Original tuple: (10, 20, 30)\n",
            "Error: 'tuple' object does not support item assignment\n"
          ]
        }
      ]
    },
    {
      "cell_type": "code",
      "source": [
        "# Write a function to demonstrate the behavior of mutable and immutable arguments\n",
        "\n",
        "def modify_args(a, b):\n",
        "    a += 10\n",
        "    b.append(100)\n",
        "    print(\"Inside function:\")\n",
        "    print(\"a:\", a)\n",
        "    print(\"b:\", b)\n",
        "x = 5\n",
        "y = [1, 2, 3]\n",
        "\n",
        "modify_args(x, y)\n",
        "\n",
        "print(\"\\nOutside function:\")\n",
        "print(\"x:\", x)\n",
        "print(\"y:\", y)\n"
      ],
      "metadata": {
        "colab": {
          "base_uri": "https://localhost:8080/"
        },
        "id": "r_f72yiO0DsT",
        "outputId": "c90f9faa-8924-4d5f-9b2c-2c5a275d554e"
      },
      "execution_count": 41,
      "outputs": [
        {
          "output_type": "stream",
          "name": "stdout",
          "text": [
            "Inside function:\n",
            "a: 15\n",
            "b: [1, 2, 3, 100]\n",
            "\n",
            "Outside function:\n",
            "x: 5\n",
            "y: [1, 2, 3, 100]\n"
          ]
        }
      ]
    },
    {
      "cell_type": "code",
      "source": [
        "# Write a program that performs basic arithmetic operations on two user-input numbers\n",
        "\n",
        "num1 = float(input(\"Enter the first number: \"))\n",
        "num2 = float(input(\"Enter the second number: \"))\n",
        "\n",
        "addition = num1 + num2\n",
        "subtraction = num1 - num2\n",
        "multiplication = num1 * num2\n",
        "\n",
        "if num2 != 0:\n",
        "    division = num1 / num2\n",
        "else:\n",
        "    division = \"Undefined (cannot divide by zero)\"\n",
        "print(\"\\nResults:\")\n",
        "print(\"Addition:\", addition)\n",
        "print(\"Subtraction:\", subtraction)\n",
        "print(\"Multiplication:\", multiplication)\n",
        "print(\"Division:\", division)\n"
      ],
      "metadata": {
        "colab": {
          "base_uri": "https://localhost:8080/"
        },
        "id": "szwr3E9B-9fT",
        "outputId": "88c5305b-7c1d-4a81-9eac-6abc484a4724"
      },
      "execution_count": 42,
      "outputs": [
        {
          "output_type": "stream",
          "name": "stdout",
          "text": [
            "Enter the first number: 45\n",
            "Enter the second number: 78\n",
            "\n",
            "Results:\n",
            "Addition: 123.0\n",
            "Subtraction: -33.0\n",
            "Multiplication: 3510.0\n",
            "Division: 0.5769230769230769\n"
          ]
        }
      ]
    },
    {
      "cell_type": "code",
      "source": [
        "# Write a program to demonstrate the use of logical operators\n",
        "\n",
        "a = int(input(\"Enter the first number: \"))\n",
        "b = int(input(\"Enter the second number: \"))\n",
        "\n",
        "if a > 0 and b > 0:\n",
        "    print(\"Both numbers are positive.\")\n",
        "\n",
        "if a > 0 or b > 0:\n",
        "    print(\"At least one number is positive.\")\n",
        "\n",
        "if not (a < 0 and b < 0):\n",
        "    print(\"Not both numbers are negative.\")\n",
        "else:\n",
        "    print(\"Both numbers are negative.\")\n"
      ],
      "metadata": {
        "colab": {
          "base_uri": "https://localhost:8080/"
        },
        "id": "mXJcTD-5_bKt",
        "outputId": "2dfe240a-e995-434f-d2b9-8511036832ca"
      },
      "execution_count": 43,
      "outputs": [
        {
          "output_type": "stream",
          "name": "stdout",
          "text": [
            "Enter the first number: 67\n",
            "Enter the second number: 99\n",
            "Both numbers are positive.\n",
            "At least one number is positive.\n",
            "Not both numbers are negative.\n"
          ]
        }
      ]
    },
    {
      "cell_type": "code",
      "source": [
        "#  Write a Python program to convert user input from string to integer, float, and boolean types\n",
        "\n",
        "user_input = input(\"Enter a value: \")\n",
        "\n",
        "try:\n",
        "    int_value = int(user_input)\n",
        "    print(\"Integer value:\", int_value)\n",
        "except ValueError:\n",
        "    print(\"Cannot convert to integer.\")\n",
        "\n",
        "try:\n",
        "    float_value = float(user_input)\n",
        "    print(\"Float value:\", float_value)\n",
        "except ValueError:\n",
        "    print(\"Cannot convert to float.\")\n",
        "\n",
        "bool_value = user_input.strip().lower() not in [\"\", \"false\", \"0\", \"no\"]\n",
        "print(\"Boolean value:\", bool_value)\n"
      ],
      "metadata": {
        "colab": {
          "base_uri": "https://localhost:8080/"
        },
        "id": "SPhH50RR_dHT",
        "outputId": "a93890ca-2497-47a2-c308-a53261cc0712"
      },
      "execution_count": 44,
      "outputs": [
        {
          "output_type": "stream",
          "name": "stdout",
          "text": [
            "Enter a value: 78\n",
            "Integer value: 78\n",
            "Float value: 78.0\n",
            "Boolean value: True\n"
          ]
        }
      ]
    },
    {
      "cell_type": "code",
      "source": [
        "# Write code to demonstrate type casting with list elements\n",
        "\n",
        "str_list = [\"10\", \"20\", \"30\", \"40.5\", \"hello\"]\n",
        "\n",
        "int_list = []\n",
        "for item in str_list:\n",
        "    try:\n",
        "        int_list.append(int(float(item)))\n",
        "    except ValueError:\n",
        "        print(f\"Cannot convert '{item}' to int.\")\n",
        "        int_list.append(None)\n",
        "\n",
        "float_list = []\n",
        "for item in str_list:\n",
        "    try:\n",
        "        float_list.append(float(item))\n",
        "    except ValueError:\n",
        "        print(f\"Cannot convert '{item}' to float.\")\n",
        "        float_list.append(None)\n",
        "\n",
        "bool_list = [bool(item) for item in str_list]\n",
        "\n",
        "print(\"\\nOriginal List:\", str_list)\n",
        "print(\"Integer List:\", int_list)\n",
        "print(\"Float List:\", float_list)\n",
        "print(\"Boolean List:\", bool_list)\n"
      ],
      "metadata": {
        "colab": {
          "base_uri": "https://localhost:8080/"
        },
        "id": "jqWiLH5V_eeY",
        "outputId": "ee0d374e-85f3-4d5d-8586-0363a27ce3c6"
      },
      "execution_count": 45,
      "outputs": [
        {
          "output_type": "stream",
          "name": "stdout",
          "text": [
            "Cannot convert 'hello' to int.\n",
            "Cannot convert 'hello' to float.\n",
            "\n",
            "Original List: ['10', '20', '30', '40.5', 'hello']\n",
            "Integer List: [10, 20, 30, 40, None]\n",
            "Float List: [10.0, 20.0, 30.0, 40.5, None]\n",
            "Boolean List: [True, True, True, True, True]\n"
          ]
        }
      ]
    },
    {
      "cell_type": "code",
      "source": [
        "# Write a program that checks if a number is positive, negative, or zero\n",
        "num = float(input(\"Enter a number: \"))\n",
        "\n",
        "if num > 0:\n",
        "    print(\"The number is positive.\")\n",
        "elif num < 0:\n",
        "    print(\"The number is negative.\")\n",
        "else:\n",
        "    print(\"The number is zero.\")\n"
      ],
      "metadata": {
        "colab": {
          "base_uri": "https://localhost:8080/"
        },
        "id": "gVHuDxYm_kRT",
        "outputId": "49203868-3dce-4659-82a5-b6e2c431ad70"
      },
      "execution_count": 46,
      "outputs": [
        {
          "output_type": "stream",
          "name": "stdout",
          "text": [
            "Enter a number: 78\n",
            "The number is positive.\n"
          ]
        }
      ]
    },
    {
      "cell_type": "code",
      "source": [
        "# Write a for loop to print numbers from 1 to 10\n",
        "\n",
        "for i in range(1, 11):\n",
        "    print(i)\n"
      ],
      "metadata": {
        "colab": {
          "base_uri": "https://localhost:8080/"
        },
        "id": "8x5HFswq_kd6",
        "outputId": "55adad20-3866-42da-dab7-f1d2f14ffa69"
      },
      "execution_count": 47,
      "outputs": [
        {
          "output_type": "stream",
          "name": "stdout",
          "text": [
            "1\n",
            "2\n",
            "3\n",
            "4\n",
            "5\n",
            "6\n",
            "7\n",
            "8\n",
            "9\n",
            "10\n"
          ]
        }
      ]
    },
    {
      "cell_type": "code",
      "source": [
        "# Write a Python program to find the sum of all even numbers between 1 and 50\n",
        "\n",
        "even_sum = 0\n",
        "\n",
        "for i in range(1, 51):\n",
        "    if i % 2 == 0:\n",
        "        even_sum += i\n",
        "print(\"Sum of even numbers from 1 to 50 is:\", even_sum)\n"
      ],
      "metadata": {
        "colab": {
          "base_uri": "https://localhost:8080/"
        },
        "id": "W5a7GS9w_koo",
        "outputId": "588b2b26-35d2-45bf-9d3e-07ac40ab1169"
      },
      "execution_count": 48,
      "outputs": [
        {
          "output_type": "stream",
          "name": "stdout",
          "text": [
            "Sum of even numbers from 1 to 50 is: 650\n"
          ]
        }
      ]
    },
    {
      "cell_type": "code",
      "source": [
        "# Write a program to reverse a string using a while loop\n",
        "\n",
        "original_str = input(\"Enter a string: \")\n",
        "\n",
        "reversed_str = \"\"\n",
        "index = len(original_str) - 1\n",
        "\n",
        "while index >= 0:\n",
        "    reversed_str += original_str[index]\n",
        "    index -= 1\n",
        "\n",
        "print(\"Reversed string:\", reversed_str)\n"
      ],
      "metadata": {
        "colab": {
          "base_uri": "https://localhost:8080/"
        },
        "id": "8fwWh2Kg_lEB",
        "outputId": "c0a4e451-8e25-4c0f-d5fd-3fd91011e259"
      },
      "execution_count": 49,
      "outputs": [
        {
          "output_type": "stream",
          "name": "stdout",
          "text": [
            "Enter a string: Surya\n",
            "Reversed string: ayruS\n"
          ]
        }
      ]
    },
    {
      "cell_type": "code",
      "source": [
        "# Write a Python program to calculate the factorial of a number provided by the user using a while loop\n",
        "\n",
        "num = int(input(\"Enter a non-negative integer: \"))\n",
        "if num < 0:\n",
        "    print(\"Factorial is not defined for negative numbers.\")\n",
        "else:\n",
        "    factorial = 1\n",
        "    i = 1\n",
        "    while i <= num:\n",
        "        factorial *= i\n",
        "        i += 1\n",
        "    print(f\"The factorial of {num} is: {factorial}\")\n"
      ],
      "metadata": {
        "colab": {
          "base_uri": "https://localhost:8080/"
        },
        "id": "o7rlF5q8_lPC",
        "outputId": "72186850-18fe-475a-9fd9-fa86767feb6a"
      },
      "execution_count": 51,
      "outputs": [
        {
          "output_type": "stream",
          "name": "stdout",
          "text": [
            "Enter a non-negative integer: 9\n",
            "The factorial of 9 is: 362880\n"
          ]
        }
      ]
    }
  ]
}